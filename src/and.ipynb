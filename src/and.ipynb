{
 "cells": [
  {
   "cell_type": "markdown",
   "id": "0",
   "metadata": {},
   "source": [
    "# Bitwise AND operation"
   ]
  },
  {
   "cell_type": "code",
   "execution_count": null,
   "id": "1",
   "metadata": {},
   "outputs": [],
   "source": [
    "# Constants\n",
    "N = 2\n",
    "SHOTS = 10"
   ]
  },
  {
   "cell_type": "code",
   "execution_count": null,
   "id": "2",
   "metadata": {},
   "outputs": [],
   "source": [
    "# Imports\n",
    "from itertools import product\n",
    "from qiskit import QuantumCircuit, QuantumRegister, ClassicalRegister\n",
    "from qiskit.quantum_info import Statevector\n",
    "from qiskit.circuit.library import AndGate\n",
    "from qiskit.primitives import StatevectorSampler"
   ]
  },
  {
   "cell_type": "code",
   "execution_count": null,
   "id": "3",
   "metadata": {},
   "outputs": [],
   "source": [
    "# Create registers\n",
    "a = QuantumRegister(N, 'a')       # First input\n",
    "b = QuantumRegister(N, 'b')       # Second input\n",
    "target = QuantumRegister(N, 't')  # Targets to store AND results\n",
    "res = ClassicalRegister(N, 'res')\n",
    "\n",
    "sampler = StatevectorSampler()"
   ]
  },
  {
   "cell_type": "code",
   "execution_count": null,
   "id": "4",
   "metadata": {},
   "outputs": [],
   "source": [
    "def generate_circuit(a, b, target, res, a_val, b_val, ANDFunc):\n",
    "    # Create the quantum circuit\n",
    "    qc = QuantumCircuit(a, b, target, res)\n",
    "\n",
    "    # Initialize the input states\n",
    "    state_a = Statevector.from_int(a_val, dims=2**N)\n",
    "    qc.initialize(state_a.data, a)\n",
    "    state_b = Statevector.from_int(b_val, dims=2**N)\n",
    "    qc.initialize(state_b.data, b)\n",
    "\n",
    "    # Apply the AND gate to each pair of qubits\n",
    "    for i in range(N):\n",
    "        ANDFunc(qc, a[i], b[i], target[i])\n",
    "    \n",
    "    qc.measure(target, res)\n",
    "\n",
    "    return qc"
   ]
  },
  {
   "cell_type": "markdown",
   "id": "5",
   "metadata": {},
   "source": [
    "## Qiskit Library usage"
   ]
  },
  {
   "cell_type": "code",
   "execution_count": null,
   "id": "6",
   "metadata": {},
   "outputs": [],
   "source": [
    "and_gate = AndGate(2) # AND gate takes 2 qubits as input\n",
    "\n",
    "def QiskitAND(qc, a, b, target):\n",
    "    qc.append(and_gate, [a, b, target])\n",
    "\n",
    "qc = generate_circuit(a, b, target, res, 0, 0, QiskitAND)\n",
    "qc.draw('mpl')"
   ]
  },
  {
   "cell_type": "code",
   "execution_count": null,
   "id": "7",
   "metadata": {},
   "outputs": [],
   "source": [
    "# Generate all combinations of inputs for A and B and run the AND circuit for each combination\n",
    "for a_val, b_val in product(range(2**N), range(2**N)):\n",
    "    qc = generate_circuit(a, b, target, res, a_val, b_val, QiskitAND)\n",
    "    \n",
    "    result = sampler.run([qc], shots=SHOTS).result()\n",
    "    print(f\"Input A: {a_val:04b}, Input B: {b_val:04b}, Output AND: {result[0].data.res.get_counts()}\\n\")\n"
   ]
  },
  {
   "cell_type": "markdown",
   "id": "8",
   "metadata": {},
   "source": [
    "## Custom Implementation"
   ]
  },
  {
   "cell_type": "markdown",
   "id": "9",
   "metadata": {},
   "source": [
    "### Running on qubits in their eigenstates"
   ]
  },
  {
   "cell_type": "markdown",
   "id": "10",
   "metadata": {},
   "source": [
    "#### First, I will use Qiskit's provided Toffoli (CCX) gate to implement the AND functionality"
   ]
  },
  {
   "cell_type": "code",
   "execution_count": null,
   "id": "11",
   "metadata": {},
   "outputs": [],
   "source": [
    "def ToffoliGateAND(qc, a, b, target):\n",
    "    qc.ccx(a, b, target)\n",
    "\n",
    "qc = generate_circuit(a, b, target, res, 0, 0, ToffoliGateAND)\n",
    "qc.draw('mpl')\n"
   ]
  },
  {
   "cell_type": "code",
   "execution_count": null,
   "id": "12",
   "metadata": {},
   "outputs": [],
   "source": [
    "for a_val, b_val in product(range(2**N), range(2**N)):\n",
    "    qc = generate_circuit(a, b, target, res, a_val, b_val, QiskitAND)\n",
    "    \n",
    "    result = sampler.run([qc], shots=SHOTS).result()\n",
    "    print(f\"Input A: {a_val:04b}, Input B: {b_val:04b}, Output AND: {result[0].data.res.get_counts()}\\n\")"
   ]
  },
  {
   "cell_type": "markdown",
   "id": "13",
   "metadata": {},
   "source": [
    "#### Now, I will implement it from scratch"
   ]
  },
  {
   "cell_type": "code",
   "execution_count": null,
   "id": "14",
   "metadata": {},
   "outputs": [],
   "source": [
    "def ElementaryGatesAND(qc, a, b, target):\n",
    "    qc.h(target)\n",
    "    qc.tdg(target)\n",
    "    qc.cx(a, target)\n",
    "    qc.t(target)\n",
    "    qc.cx(b, target)\n",
    "    qc.tdg(target)\n",
    "    qc.cx(a, target)\n",
    "    qc.t(target)\n",
    "    qc.h(target)\n",
    "\n",
    "qc = generate_circuit(a, b, target, res, 0, 0, ElementaryGatesAND)\n",
    "qc.draw('mpl')"
   ]
  },
  {
   "cell_type": "code",
   "execution_count": null,
   "id": "15",
   "metadata": {},
   "outputs": [],
   "source": [
    "for a_val, b_val in product(range(2**N), range(2**N)):\n",
    "    qc = generate_circuit(a, b, target, res, a_val, b_val, ElementaryGatesAND)\n",
    "    \n",
    "    result = sampler.run([qc], shots=SHOTS).result()\n",
    "    print(f\"Input A: {a_val:04b}, Input B: {b_val:04b}, Output AND: {result[0].data.res.get_counts()}\\n\")"
   ]
  },
  {
   "cell_type": "markdown",
   "id": "16",
   "metadata": {},
   "source": [
    "## Running on qubits in superposition"
   ]
  }
 ],
 "metadata": {
  "kernelspec": {
   "display_name": "qiskit-dev",
   "language": "python",
   "name": "python3"
  },
  "language_info": {
   "codemirror_mode": {
    "name": "ipython",
    "version": 3
   },
   "file_extension": ".py",
   "mimetype": "text/x-python",
   "name": "python",
   "nbconvert_exporter": "python",
   "pygments_lexer": "ipython3",
   "version": "3.13.2"
  }
 },
 "nbformat": 4,
 "nbformat_minor": 5
}
