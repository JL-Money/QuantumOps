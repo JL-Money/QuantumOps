{
 "cells": [
  {
   "cell_type": "markdown",
   "id": "0",
   "metadata": {},
   "source": [
    "# Full Adder Circuit"
   ]
  },
  {
   "cell_type": "code",
   "execution_count": null,
   "id": "1",
   "metadata": {},
   "outputs": [],
   "source": [
    "# Constants\n",
    "N = 3\n",
    "A_VAL = 0b0010\n",
    "B_VAL = 0b0011\n",
    "SHOTS = 1000"
   ]
  },
  {
   "cell_type": "markdown",
   "id": "2",
   "metadata": {},
   "source": [
    "## Qiskit Library usage"
   ]
  },
  {
   "cell_type": "code",
   "execution_count": null,
   "id": "3",
   "metadata": {},
   "outputs": [],
   "source": [
    "from qiskit.circuit.library import FullAdderGate\n",
    "from qiskit import QuantumCircuit, QuantumRegister, ClassicalRegister\n",
    " \n",
    "adder = FullAdderGate(N)  # Adder of 3-bit numbers\n",
    " \n",
    "# Create the number A=2\n",
    "reg_a = QuantumRegister(N, \"a\")\n",
    "number_a = QuantumCircuit(reg_a)\n",
    "number_a.initialize(A_VAL)  # Number 2; |010>\n",
    " \n",
    "# Create the number B=3\n",
    "reg_b = QuantumRegister(N, \"b\")\n",
    "number_b = QuantumCircuit(reg_b)\n",
    "number_b.initialize(B_VAL)  # Number 3; |011>\n",
    " \n",
    "# Create a circuit to hold everything, including a classical register for\n",
    "# the result\n",
    "qregs = [\n",
    "    QuantumRegister(1, \"cin\"),\n",
    "    QuantumRegister(N, \"a\"),\n",
    "    QuantumRegister(N, \"b\"),\n",
    "    QuantumRegister(1, \"cout\"),\n",
    "]\n",
    "reg_result = ClassicalRegister(N)\n",
    "circuit = QuantumCircuit(*qregs, reg_result)\n",
    " \n",
    "# Compose number initializers with the adder. Adder stores the result to\n",
    "# register B, so we'll measure those qubits.\n",
    "circuit = (\n",
    "    circuit.compose(number_a, qubits=reg_a)\n",
    "    .compose(number_b, qubits=reg_b)\n",
    "    .compose(adder)\n",
    ")\n",
    "circuit.measure(reg_b, reg_result)\n",
    "circuit.draw(\"mpl\")"
   ]
  },
  {
   "cell_type": "code",
   "execution_count": null,
   "id": "4",
   "metadata": {},
   "outputs": [],
   "source": [
    "from qiskit.primitives import StatevectorSampler\n",
    "\n",
    "result = StatevectorSampler().run([circuit], shots=SHOTS).result()\n",
    "counts = result[0].data.c0\n",
    "print(f\"Count data:\\n0d: {counts.get_int_counts()}\\n0b: {counts.get_counts()}\")"
   ]
  }
 ],
 "metadata": {
  "kernelspec": {
   "display_name": "qiskit-dev",
   "language": "python",
   "name": "python3"
  },
  "language_info": {
   "codemirror_mode": {
    "name": "ipython",
    "version": 3
   },
   "file_extension": ".py",
   "mimetype": "text/x-python",
   "name": "python",
   "nbconvert_exporter": "python",
   "pygments_lexer": "ipython3",
   "version": "3.13.2"
  }
 },
 "nbformat": 4,
 "nbformat_minor": 5
}
