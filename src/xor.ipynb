{
 "cells": [
  {
   "cell_type": "markdown",
   "id": "0",
   "metadata": {},
   "source": [
    "# Bitwise XOR operation"
   ]
  },
  {
   "cell_type": "code",
   "execution_count": null,
   "id": "1",
   "metadata": {},
   "outputs": [],
   "source": [
    "# Constants\n",
    "N = 4\n",
    "A_VAL = 0b0011\n",
    "B_VAL = 0b0101\n",
    "SHOTS = 1000"
   ]
  },
  {
   "cell_type": "markdown",
   "id": "2",
   "metadata": {},
   "source": [
    "## Qiskit Library usage\n",
    "\n",
    "Only capable of computing bitwise XOR where the control qubits are in the computational basis"
   ]
  },
  {
   "cell_type": "code",
   "execution_count": null,
   "id": "3",
   "metadata": {},
   "outputs": [],
   "source": [
    "from qiskit import QuantumCircuit, QuantumRegister, ClassicalRegister\n",
    "from qiskit.circuit.library import BitwiseXorGate\n",
    "\n",
    "xor = BitwiseXorGate(num_qubits=N, amount=B_VAL)\n",
    "\n",
    "# Create A = |0011>\n",
    "reg_a = QuantumRegister(N, \"a\")\n",
    "A = QuantumCircuit(reg_a)\n",
    "A.initialize(A_VAL)\n",
    "\n",
    "# Create a circuit to hold everything, including a classical register for the result\n",
    "reg_result = ClassicalRegister(N, \"res\")\n",
    "circuit = QuantumCircuit(reg_a, reg_result)\n",
    "\n",
    "circuit = (\n",
    "    circuit.compose(A, qubits=reg_a)\n",
    "    .compose(xor)\n",
    ")\n",
    "circuit.measure(reg_a, reg_result)\n",
    "circuit.draw(\"mpl\")"
   ]
  },
  {
   "cell_type": "code",
   "execution_count": null,
   "id": "4",
   "metadata": {},
   "outputs": [],
   "source": [
    "from qiskit.primitives import StatevectorSampler\n",
    " \n",
    "result = StatevectorSampler().run([circuit], shots=SHOTS).result()\n",
    "print(f\"Count data:\\n {result[0].data.res.get_counts()}\")"
   ]
  },
  {
   "cell_type": "markdown",
   "id": "5",
   "metadata": {},
   "source": [
    "## Custom Implementation"
   ]
  },
  {
   "cell_type": "markdown",
   "id": "6",
   "metadata": {},
   "source": [
    "### Running on qubits in their eigenstates"
   ]
  },
  {
   "cell_type": "code",
   "execution_count": null,
   "id": "7",
   "metadata": {},
   "outputs": [],
   "source": [
    "def bitwiseXOR(qc, reg_a, reg_b):\n",
    "    assert(reg_a.size == reg_b.size)\n",
    "    for i in range(reg_a.size):\n",
    "        qc.cx(reg_a[i], reg_b[i])\n",
    "\n",
    "# Create A = |0011>\n",
    "reg_a = QuantumRegister(N, \"a\")\n",
    "A = QuantumCircuit(reg_a)\n",
    "A.initialize(A_VAL)\n",
    "\n",
    "# Create B = |0101>\n",
    "reg_b = QuantumRegister(N, \"b\")\n",
    "B = QuantumCircuit(reg_b)\n",
    "B.initialize(B_VAL)\n",
    "\n",
    "# Create full quantum circuit\n",
    "qregs = [\n",
    "    QuantumRegister(N, \"a\"),\n",
    "    QuantumRegister(N, \"b\"),\n",
    "]\n",
    "reg_result = ClassicalRegister(N, \"res\")\n",
    "circuit = QuantumCircuit(*qregs, reg_result)\n",
    "\n",
    "circuit = (\n",
    "    circuit.compose(A, qubits=reg_a)\n",
    "    .compose(B, qubits=reg_b)\n",
    ")\n",
    "bitwiseXOR(circuit, reg_a, reg_b)\n",
    "circuit.measure(reg_b, reg_result)\n",
    "circuit.draw(\"mpl\")"
   ]
  },
  {
   "cell_type": "code",
   "execution_count": null,
   "id": "8",
   "metadata": {},
   "outputs": [],
   "source": [
    "result = StatevectorSampler().run([circuit], shots=SHOTS).result()\n",
    "print(f\"Count data:\\n {result[0].data.res.get_counts()}\")"
   ]
  },
  {
   "cell_type": "markdown",
   "id": "9",
   "metadata": {},
   "source": [
    "## Running on qubits in superposition"
   ]
  },
  {
   "cell_type": "code",
   "execution_count": null,
   "id": "10",
   "metadata": {},
   "outputs": [],
   "source": [
    "import math\n",
    "\n",
    "coeff = 1/math.sqrt(2)**N\n",
    "print(coeff)\n",
    "\n",
    "# |+>⊗|+>⊗|+>⊗|+>\n",
    "state_plus2 = [coeff] * (2**N)\n",
    "\n",
    "reg_a = QuantumRegister(N, \"a\")\n",
    "A = QuantumCircuit(reg_a)\n",
    "A.initialize(state_plus2, reg_a)\n",
    "\n",
    "reg_b = QuantumRegister(N, \"b\")\n",
    "B = QuantumCircuit(reg_b)\n",
    "B.initialize(state_plus2, reg_b)\n",
    "\n",
    "# Create full quantum circuit\n",
    "qregs = [\n",
    "    QuantumRegister(N, \"a\"),\n",
    "    QuantumRegister(N, \"b\"),\n",
    "]\n",
    "reg_result = ClassicalRegister(N, \"res\")\n",
    "circuit = QuantumCircuit(*qregs, reg_result)\n",
    "\n",
    "circuit = (\n",
    "    circuit.compose(A, qubits=reg_a)\n",
    "    .compose(B, qubits=reg_b)\n",
    ")\n",
    "bitwiseXOR(circuit, reg_a, reg_b)\n",
    "circuit.measure(reg_b, reg_result)\n",
    "circuit.draw(\"mpl\")"
   ]
  },
  {
   "cell_type": "code",
   "execution_count": null,
   "id": "11",
   "metadata": {},
   "outputs": [],
   "source": [
    "result = StatevectorSampler().run([circuit], shots=SHOTS).result()\n",
    "counts = result[0].data.res.get_counts()\n",
    "print(f\"Count data:\\n {counts}\")\n",
    "print(f\"Expected count of each: {SHOTS * coeff**2}\")"
   ]
  },
  {
   "cell_type": "code",
   "execution_count": null,
   "id": "12",
   "metadata": {},
   "outputs": [],
   "source": [
    "from qiskit.visualization import plot_histogram\n",
    "plot_histogram(counts)"
   ]
  }
 ],
 "metadata": {
  "kernelspec": {
   "display_name": "qiskit-dev",
   "language": "python",
   "name": "python3"
  },
  "language_info": {
   "codemirror_mode": {
    "name": "ipython",
    "version": 3
   },
   "file_extension": ".py",
   "mimetype": "text/x-python",
   "name": "python",
   "nbconvert_exporter": "python",
   "pygments_lexer": "ipython3",
   "version": "3.13.2"
  }
 },
 "nbformat": 4,
 "nbformat_minor": 5
}
