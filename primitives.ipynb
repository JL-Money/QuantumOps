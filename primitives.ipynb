{
 "cells": [
  {
   "cell_type": "markdown",
   "id": "0",
   "metadata": {},
   "source": [
    "# Transverse field Ising model to demo primitives"
   ]
  },
  {
   "cell_type": "markdown",
   "id": "1",
   "metadata": {},
   "source": [
    "https://youtu.be/35ykEg3fG4c?si=-jErWz_loQItXEw2\n",
    "\n",
    "> Definition: Smallest processing instruction for a given abstraction level.\n",
    "\n",
    "Estimator Primitive: Computes expectation values of observables with the respective states prepared by quantum circuits. Cannot easily get individual bit strings.\n",
    "\n",
    "Sampler Primitive: Returns shot by shot bit strings sampled from the probability distribution on the quantum state prepared on the device. (Can do the job of the estimator, but may require more post-processing)"
   ]
  },
  {
   "cell_type": "code",
   "execution_count": null,
   "id": "2",
   "metadata": {},
   "outputs": [],
   "source": [
    "from qiskit import QuantumCircuit\n",
    "from qiskit.circuit.library import YGate, UnitaryGate\n",
    "\n",
    "SYGate = UnitaryGate(YGate().power(1/2), label=r\"$\\sqrt{Y}$\")\n",
    "SYdgGate = UnitaryGate(SYGate().inverse(), label=r\"$\\sqrt{Y}^\\dag$\")\n",
    "\n",
    "def generate_1d_tfim_circuit(num_qubit, num_trotter_steps, rx_angle):\n",
    "    qc = QuantumCircuit(num_qubits)\n",
    "\n",
    "    for trotter_step in range(num_trotter_steps):\n",
    "        add_1d_tfim_trotter_layer(qc, rx_angle)\n",
    "    \n",
    "    return qc\n",
    "\n",
    "def add_1d_tfim_trotter_layer(qc, rx_angle):\n",
    "    # Adding Rzz in the even layers\n",
    "    for i in range(0, qc.num_qubits-1, 2):\n",
    "        qc.sdg([i, i+1])\n",
    "        qc.append(SYGate, [i+1])\n",
    "        qc.cx(i, i+1)\n",
    "        qc.append(SYdgGate, [i+1])\n",
    "    # Adding Rzz in the odd layers\n",
    "    for i in range(1, qc.num_qubits-1, 2):\n",
    "        qc.sdg([i, i+1])\n",
    "        qc.append(SYGate, [i+1])\n",
    "        qc.cx(i, i+1)\n",
    "        qc.append(SYdgGate, [i+1])\n",
    "    qc.rx(rx_angle, list(range(qc.num_qubits)))"
   ]
  },
  {
   "cell_type": "code",
   "execution_count": null,
   "id": "3",
   "metadata": {},
   "outputs": [],
   "source": []
  }
 ],
 "metadata": {
  "kernelspec": {
   "display_name": "qiskit-dev",
   "language": "python",
   "name": "python3"
  },
  "language_info": {
   "codemirror_mode": {
    "name": "ipython",
    "version": 3
   },
   "file_extension": ".py",
   "mimetype": "text/x-python",
   "name": "python",
   "nbconvert_exporter": "python",
   "pygments_lexer": "ipython3",
   "version": "3.13.2"
  }
 },
 "nbformat": 4,
 "nbformat_minor": 5
}
