{
 "cells": [
  {
   "cell_type": "code",
   "execution_count": null,
   "id": "0",
   "metadata": {},
   "outputs": [],
   "source": [
    "state_a = [[0.5, 0,   0,   0],\n",
    "           [0,   0.5, 0,   0],\n",
    "           [0,   0,   0.5, 0],\n",
    "           [0,   0,   0,   0.5]]"
   ]
  },
  {
   "cell_type": "code",
   "execution_count": null,
   "id": "1",
   "metadata": {},
   "outputs": [],
   "source": [
    "from qiskit import QuantumCircuit, QuantumRegister\n",
    "from qiskit_aer import AerSimulator\n",
    "from qiskit.quantum_info import DensityMatrix\n",
    "\n",
    "# Create a basic 2-qubit circuit (do nothing = identity)\n",
    "reg_a = QuantumRegister(2, 'a')\n",
    "A = QuantumCircuit(reg_a)\n",
    "\n",
    "# Add instruction to save the density matrix\n",
    "A.save_density_matrix()\n",
    "\n",
    "# Run with AerSimulator using the density_matrix method\n",
    "sim = AerSimulator(method='density_matrix')\n",
    "result = sim.run(A).result()\n",
    "\n",
    "# Get the density matrix from result\n",
    "rho = result.data(0)['density_matrix']\n",
    "\n",
    "# Print it\n",
    "print(DensityMatrix(rho))\n"
   ]
  }
 ],
 "metadata": {
  "kernelspec": {
   "display_name": "qiskit-dev",
   "language": "python",
   "name": "python3"
  },
  "language_info": {
   "codemirror_mode": {
    "name": "ipython",
    "version": 3
   },
   "file_extension": ".py",
   "mimetype": "text/x-python",
   "name": "python",
   "nbconvert_exporter": "python",
   "pygments_lexer": "ipython3",
   "version": "3.13.2"
  }
 },
 "nbformat": 4,
 "nbformat_minor": 5
}
