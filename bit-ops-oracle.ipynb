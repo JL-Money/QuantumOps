{
 "cells": [
  {
   "cell_type": "code",
   "execution_count": null,
   "id": "0",
   "metadata": {},
   "outputs": [],
   "source": [
    "from qiskit.circuit.library import BitFlipOracleGate\n",
    "from qiskit import QuantumCircuit\n",
    "\n",
    "bitflip = BitFlipOracleGate(\"a & b\")  # Another ex: (v0 | ~v1) & (~v2 & v3)\n",
    "\n",
    "qc = QuantumCircuit(3, 1)\n",
    "qc.x(0)\n",
    "qc.x(1)\n",
    "qc.append(bitflip, [0,1,2])\n",
    "qc.measure(2, 0)\n",
    "qc.draw(\"mpl\")"
   ]
  },
  {
   "cell_type": "code",
   "execution_count": null,
   "id": "1",
   "metadata": {},
   "outputs": [],
   "source": [
    "from qiskit_aer.primitives import Sampler\n",
    "\n",
    "sampler = Sampler(backend_options={\"seed_simulator\": 999})\n",
    "\n",
    "quasi_dists = sampler.run(qc, shots=1000).result().quasi_dists[0].binary_probabilities()\n",
    "print(quasi_dists)"
   ]
  },
  {
   "cell_type": "code",
   "execution_count": null,
   "id": "2",
   "metadata": {},
   "outputs": [],
   "source": []
  }
 ],
 "metadata": {
  "kernelspec": {
   "display_name": "qiskit-dev",
   "language": "python",
   "name": "python3"
  },
  "language_info": {
   "codemirror_mode": {
    "name": "ipython",
    "version": 3
   },
   "file_extension": ".py",
   "mimetype": "text/x-python",
   "name": "python",
   "nbconvert_exporter": "python",
   "pygments_lexer": "ipython3",
   "version": "3.13.2"
  }
 },
 "nbformat": 4,
 "nbformat_minor": 5
}
